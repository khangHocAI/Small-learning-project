{
 "cells": [
  {
   "cell_type": "code",
   "execution_count": 1,
   "metadata": {},
   "outputs": [],
   "source": [
    "# Dataset: https://www.kaggle.com/meowmeowmeowmeowmeow/gtsrb-german-traffic-sign\n",
    "\n",
    "import numpy as np\n",
    "import pandas as pd\n",
    "import matplotlib.pyplot as plt\n",
    "import tensorflow as tf\n",
    "from PIL import Image \n",
    "import os\n",
    "from sklearn.model_selection import train_test_split\n",
    "from keras.utils import to_categorical\n",
    "from keras.models import Sequential\n",
    "from keras.layers import Conv2D, MaxPool2D, Dense, Flatten, Dropout"
   ]
  },
  {
   "cell_type": "code",
   "execution_count": 2,
   "metadata": {},
   "outputs": [],
   "source": [
    "data = []\n",
    "labels = []\n",
    "classes = 43\n",
    "data_path = os.getcwd()"
   ]
  },
  {
   "cell_type": "code",
   "execution_count": 3,
   "metadata": {},
   "outputs": [],
   "source": [
    "for i in range(classes):\n",
    "    path = os.path.join(data_path,'dataset\\\\train', str(i))\n",
    "    images = os.listdir(path)\n",
    "    for a in images:\n",
    "        try:\n",
    "            image = Image.open(path+\"\\\\\"+a)\n",
    "            image = image.resize((30,30))\n",
    "            image = np.array(image)\n",
    "            data.append(image)\n",
    "            labels.append(i)\n",
    "        except:\n",
    "            print(\"Error loading image\")\n",
    "data = np.array(data)\n",
    "labels = np.array(labels)"
   ]
  },
  {
   "cell_type": "code",
   "execution_count": 4,
   "metadata": {},
   "outputs": [],
   "source": [
    "X_train, X_test, y_train, y_test = train_test_split(data, labels, test_size = 0.2, random_state=42)"
   ]
  },
  {
   "cell_type": "code",
   "execution_count": 5,
   "metadata": {},
   "outputs": [],
   "source": [
    "y_train = to_categorical(y_train)\n",
    "y_test = to_categorical(y_test)"
   ]
  },
  {
   "cell_type": "code",
   "execution_count": 6,
   "metadata": {},
   "outputs": [
    {
     "data": {
      "text/plain": [
       "array([[0., 0., 0., ..., 0., 0., 0.],\n",
       "       [0., 0., 0., ..., 0., 0., 0.],\n",
       "       [0., 0., 1., ..., 0., 0., 0.],\n",
       "       ...,\n",
       "       [0., 0., 0., ..., 0., 0., 0.],\n",
       "       [0., 1., 0., ..., 0., 0., 0.],\n",
       "       [0., 0., 0., ..., 0., 0., 0.]], dtype=float32)"
      ]
     },
     "execution_count": 6,
     "metadata": {},
     "output_type": "execute_result"
    }
   ],
   "source": [
    "y_train"
   ]
  },
  {
   "cell_type": "code",
   "execution_count": 7,
   "metadata": {},
   "outputs": [],
   "source": [
    "model = Sequential()"
   ]
  },
  {
   "cell_type": "code",
   "execution_count": 8,
   "metadata": {},
   "outputs": [],
   "source": [
    "model.add(Conv2D(filters=32, kernel_size=(5,5),activation='relu', input_shape=X_train.shape[1:]))\n",
    "model.add(Conv2D(filters=32, kernel_size=(5,5),activation='relu'))\n",
    "model.add(MaxPool2D(pool_size=(2,2)))\n",
    "model.add(Dropout(rate=0.25))\n",
    "model.add(Conv2D(filters=64, kernel_size=(3,3),activation='relu'))\n",
    "model.add(Conv2D(filters=64, kernel_size=(3,3),activation='relu'))\n",
    "model.add(Dropout(rate=0.25))\n",
    "model.add(Flatten())\n",
    "model.add(Dense(256, activation='relu'))\n",
    "model.add(Dropout(rate=0.5))\n",
    "model.add(Dense(43, activation='softmax'))"
   ]
  },
  {
   "cell_type": "code",
   "execution_count": 13,
   "metadata": {},
   "outputs": [],
   "source": [
    "# from keras.utils import plot_model\n",
    "# plot_model(model, to_file='model.png', show_shapes=False, show_layer_names=True,\n",
    "#     rankdir='TB', expand_nested=False, dpi=96\n",
    "# )\n",
    "model.compile(loss='categorical_crossentropy', optimizer='adam',metrics=['accuracy'])"
   ]
  },
  {
   "cell_type": "code",
   "execution_count": 14,
   "metadata": {},
   "outputs": [
    {
     "name": "stdout",
     "output_type": "stream",
     "text": [
      "Epoch 1/15\n",
      "491/491 [==============================] - 141s 288ms/step - loss: 1.5568 - accuracy: 0.6257 - val_loss: 0.2506 - val_accuracy: 0.9374\n",
      "Epoch 2/15\n",
      "491/491 [==============================] - 113s 230ms/step - loss: 0.4000 - accuracy: 0.8842 - val_loss: 0.0975 - val_accuracy: 0.9750\n",
      "Epoch 3/15\n",
      "491/491 [==============================] - 107s 218ms/step - loss: 0.2474 - accuracy: 0.9283 - val_loss: 0.0825 - val_accuracy: 0.9786\n",
      "Epoch 4/15\n",
      "491/491 [==============================] - 108s 219ms/step - loss: 0.2104 - accuracy: 0.9398 - val_loss: 0.0576 - val_accuracy: 0.9860\n",
      "Epoch 5/15\n",
      "491/491 [==============================] - 109s 221ms/step - loss: 0.1656 - accuracy: 0.9528 - val_loss: 0.0785 - val_accuracy: 0.9795\n",
      "Epoch 6/15\n",
      "491/491 [==============================] - 106s 217ms/step - loss: 0.1408 - accuracy: 0.9598 - val_loss: 0.0375 - val_accuracy: 0.9895\n",
      "Epoch 7/15\n",
      "491/491 [==============================] - 108s 219ms/step - loss: 0.1316 - accuracy: 0.9616 - val_loss: 0.0461 - val_accuracy: 0.9872\n",
      "Epoch 8/15\n",
      "491/491 [==============================] - 107s 218ms/step - loss: 0.1562 - accuracy: 0.9560 - val_loss: 0.0512 - val_accuracy: 0.9867\n",
      "Epoch 9/15\n",
      "491/491 [==============================] - 152s 310ms/step - loss: 0.1310 - accuracy: 0.9629 - val_loss: 0.0334 - val_accuracy: 0.9918\n",
      "Epoch 10/15\n",
      "491/491 [==============================] - 122s 249ms/step - loss: 0.1411 - accuracy: 0.9620 - val_loss: 0.0381 - val_accuracy: 0.9897\n",
      "Epoch 11/15\n",
      "491/491 [==============================] - 107s 218ms/step - loss: 0.1259 - accuracy: 0.9664 - val_loss: 0.0496 - val_accuracy: 0.9871\n",
      "Epoch 12/15\n",
      "491/491 [==============================] - 106s 217ms/step - loss: 0.1257 - accuracy: 0.9657 - val_loss: 0.0518 - val_accuracy: 0.9864\n",
      "Epoch 13/15\n",
      "491/491 [==============================] - 109s 222ms/step - loss: 0.1224 - accuracy: 0.9670 - val_loss: 0.0291 - val_accuracy: 0.9915\n",
      "Epoch 14/15\n",
      "491/491 [==============================] - 107s 217ms/step - loss: 0.1218 - accuracy: 0.9682 - val_loss: 0.0316 - val_accuracy: 0.9915\n",
      "Epoch 15/15\n",
      "491/491 [==============================] - 107s 217ms/step - loss: 0.0959 - accuracy: 0.9744 - val_loss: 0.0569 - val_accuracy: 0.9866\n"
     ]
    }
   ],
   "source": [
    "epochs = 15\n",
    "training = model.fit(X_train, y_train, batch_size=64, epochs=epochs, validation_data=(X_test, y_test))"
   ]
  },
  {
   "cell_type": "code",
   "execution_count": 16,
   "metadata": {},
   "outputs": [
    {
     "data": {
      "text/plain": [
       "<matplotlib.legend.Legend at 0x1768551be80>"
      ]
     },
     "execution_count": 16,
     "metadata": {},
     "output_type": "execute_result"
    },
    {
     "data": {
      "image/png": "[encoded data removed]",
      "text/plain": [
       "<Figure size 432x288 with 1 Axes>"
      ]
     },
     "metadata": {
      "needs_background": "light"
     },
     "output_type": "display_data"
    }
   ],
   "source": [
    "plt.figure(0)\n",
    "plt.plot(training.history['accuracy'], label='train acc')\n",
    "plt.plot(training.history['val_accuracy'], label='val acc')\n",
    "plt.plot(training.history['loss'], label='train acc')\n",
    "plt.plot(training.history['val_loss'], label='val acc')\n",
    "plt.title('acc')\n",
    "plt.xlabel('epochs')\n",
    "plt.ylabel('loss')\n",
    "plt.legend()"
   ]
  },
  {
   "cell_type": "code",
   "execution_count": 17,
   "metadata": {},
   "outputs": [],
   "source": [
    "from sklearn.metrics import accuracy_score\n",
    "import pandas as pd\n",
    "y_test = pd.read_csv('dataset//Test.csv')\n",
    "labels = y_test.ClassId.values\n",
    "imgs = y_test.Path.values\n",
    "data = []"
   ]
  },
  {
   "cell_type": "code",
   "execution_count": 19,
   "metadata": {},
   "outputs": [
    {
     "name": "stdout",
     "output_type": "stream",
     "text": [
      "WARNING:tensorflow:From <ipython-input-19-545f7e74c36a>:6: Sequential.predict_classes (from tensorflow.python.keras.engine.sequential) is deprecated and will be removed after 2021-01-01.\n",
      "Instructions for updating:\n",
      "Please use instead:* `np.argmax(model.predict(x), axis=-1)`,   if your model does multi-class classification   (e.g. if it uses a `softmax` last-layer activation).* `(model.predict(x) > 0.5).astype(\"int32\")`,   if your model does binary classification   (e.g. if it uses a `sigmoid` last-layer activation).\n"
     ]
    },
    {
     "data": {
      "text/plain": [
       "0.9524940617577197"
      ]
     },
     "execution_count": 19,
     "metadata": {},
     "output_type": "execute_result"
    }
   ],
   "source": [
    "for img in imgs:\n",
    "    image = Image.open(\"dataset//\"+img)\n",
    "    image = image.resize((30,30))\n",
    "    data.append(np.array(image))\n",
    "X_test = np.array(data)\n",
    "pred = model.predict_classes(X_test)\n",
    "accuracy_score(labels, pred)"
   ]
  },
  {
   "cell_type": "code",
   "execution_count": null,
   "metadata": {},
   "outputs": [],
   "source": []
  }
 ],
 "metadata": {
  "kernelspec": {
   "display_name": "Python 3",
   "language": "python",
   "name": "python3"
  },
  "language_info": {
   "codemirror_mode": {
    "name": "ipython",
    "version": 3
   },
   "file_extension": ".py",
   "mimetype": "text/x-python",
   "name": "python",
   "nbconvert_exporter": "python",
   "pygments_lexer": "ipython3",
   "version": "3.8.3"
  }
 },
 "nbformat": 4,
 "nbformat_minor": 4
}
